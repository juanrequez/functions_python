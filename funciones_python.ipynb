{
 "cells": [
  {
   "attachments": {},
   "cell_type": "markdown",
   "id": "68338ad6",
   "metadata": {},
   "source": [
    "# Funciones en Python\n",
    "### creado por Juan Pablo Requez - juanrequez@gmail.com\n"
   ]
  },
  {
   "cell_type": "markdown",
   "id": "694004a5",
   "metadata": {},
   "source": [
    "Para iniciar esta sección, se crea una función que suma tres números:"
   ]
  },
  {
   "cell_type": "code",
   "execution_count": 1,
   "id": "01880214",
   "metadata": {},
   "outputs": [],
   "source": [
    "def sumador(a,b,c):\n",
    "    \"\"\"\n",
    "    Esta función toma tres valores, a, b y c, \n",
    "    y obtiene la suma de ellos\n",
    "    Input: 3 números a, b,c\n",
    "    Output: la suma de a, b, c\n",
    "    Autor: Juan Pablo Requez, basado en Kong\n",
    "    \"\"\"\n",
    "    #Se calcula el argumento de salida\n",
    "    salida = a + b + c\n",
    "    \n",
    "    return salida\n",
    "    "
   ]
  },
  {
   "cell_type": "markdown",
   "id": "61d4b0f6",
   "metadata": {},
   "source": [
    "Usando esta función, se calcula la suma de tres números, invocando la función de forma convencional:"
   ]
  },
  {
   "cell_type": "code",
   "execution_count": 2,
   "id": "e80d5806",
   "metadata": {},
   "outputs": [
    {
     "data": {
      "text/plain": [
       "-0.9000000000000004"
      ]
     },
     "execution_count": 2,
     "metadata": {},
     "output_type": "execute_result"
    }
   ],
   "source": [
    "sumador(1.1,3,-5)"
   ]
  },
  {
   "cell_type": "markdown",
   "id": "2b373d09",
   "metadata": {},
   "source": [
    "Debe notarse que python tiene problemas para la conversión de integers en float, para evitar esto debe usarse numpy o definir los tres argumentos como float, colocándole un punto en su notación"
   ]
  },
  {
   "cell_type": "code",
   "execution_count": 3,
   "id": "6f9039cf",
   "metadata": {},
   "outputs": [
    {
     "data": {
      "text/plain": [
       "-1.9"
      ]
     },
     "execution_count": 3,
     "metadata": {},
     "output_type": "execute_result"
    }
   ],
   "source": [
    "sumador(1.1,2.0,-5.0)"
   ]
  },
  {
   "cell_type": "code",
   "execution_count": 4,
   "id": "5ab14367",
   "metadata": {},
   "outputs": [
    {
     "name": "stdout",
     "output_type": "stream",
     "text": [
      "Help on function sumador in module __main__:\n",
      "\n",
      "sumador(a, b, c)\n",
      "    Esta función toma tres valores, a, b y c, \n",
      "    y obtiene la suma de ellos\n",
      "    Input: 3 números a, b,c\n",
      "    Output: la suma de a, b, c\n",
      "    Autor: Juan Pablo Requez, basado en Kong\n",
      "\n"
     ]
    }
   ],
   "source": [
    "help(sumador)"
   ]
  },
  {
   "cell_type": "markdown",
   "id": "fa292fa1",
   "metadata": {},
   "source": [
    "Ahora se define una función con múltiples salidas."
   ]
  },
  {
   "cell_type": "code",
   "execution_count": 5,
   "id": "082fecf9",
   "metadata": {},
   "outputs": [],
   "source": [
    "def conversion_masa(masa_gramos):\n",
    "    \"\"\"Esta función toma la masa en gramos y la convierte\n",
    "    en kilogramos y en libras y regresa los dos valores\n",
    "    Input: masa_gramos que representa una masa en gramos\n",
    "    output: masa_kg masa_libras \n",
    "    Autor: Juan Pablo Requez\n",
    "    \"\"\"\n",
    "    masa_kg=masa_gramos/1000;\n",
    "    masa_libras=masa_kg/0.454;\n",
    "    \n",
    "    return masa_kg,masa_libras\n"
   ]
  },
  {
   "cell_type": "code",
   "execution_count": 6,
   "id": "c386d4b4",
   "metadata": {},
   "outputs": [
    {
     "data": {
      "text/plain": [
       "(0.25, 0.5506607929515418)"
      ]
     },
     "execution_count": 6,
     "metadata": {},
     "output_type": "execute_result"
    }
   ],
   "source": [
    "conversion_masa(250.)"
   ]
  },
  {
   "cell_type": "markdown",
   "id": "6a6482f8",
   "metadata": {},
   "source": [
    "#### Definición de una función anónima\n",
    "Se define una función anónima que toma dos entradas, x, z, y regresa el resultado del trinomio cuadrado perfecto (que tambien podría calcularse usando la suma y elevando al cuadrado). "
   ]
  },
  {
   "cell_type": "code",
   "execution_count": 7,
   "id": "b42e9bc7",
   "metadata": {},
   "outputs": [],
   "source": [
    "trinomio_perfecto = lambda x,z: x**2 +2*x*z + z**2"
   ]
  },
  {
   "cell_type": "code",
   "execution_count": 8,
   "id": "8c4c5952",
   "metadata": {},
   "outputs": [
    {
     "data": {
      "text/plain": [
       "9"
      ]
     },
     "execution_count": 8,
     "metadata": {},
     "output_type": "execute_result"
    }
   ],
   "source": [
    "#el resultado debe dar 9\n",
    "trinomio_perfecto(2,1)"
   ]
  },
  {
   "cell_type": "code",
   "execution_count": 9,
   "id": "bbc3f419",
   "metadata": {},
   "outputs": [],
   "source": [
    "p1=[1,2,3]"
   ]
  },
  {
   "cell_type": "code",
   "execution_count": 10,
   "id": "52bf67cd",
   "metadata": {},
   "outputs": [],
   "source": [
    "x1,x2,x3=p1"
   ]
  },
  {
   "cell_type": "code",
   "execution_count": 11,
   "id": "5f94da21",
   "metadata": {},
   "outputs": [
    {
     "data": {
      "text/plain": [
       "1"
      ]
     },
     "execution_count": 11,
     "metadata": {},
     "output_type": "execute_result"
    }
   ],
   "source": [
    "x1"
   ]
  },
  {
   "cell_type": "code",
   "execution_count": 12,
   "id": "9df9c7cb",
   "metadata": {},
   "outputs": [
    {
     "data": {
      "text/plain": [
       "2"
      ]
     },
     "execution_count": 12,
     "metadata": {},
     "output_type": "execute_result"
    }
   ],
   "source": [
    "x2"
   ]
  },
  {
   "cell_type": "code",
   "execution_count": 13,
   "id": "e52ad88c",
   "metadata": {},
   "outputs": [
    {
     "data": {
      "text/plain": [
       "3"
      ]
     },
     "execution_count": 13,
     "metadata": {},
     "output_type": "execute_result"
    }
   ],
   "source": [
    "x3"
   ]
  },
  {
   "cell_type": "code",
   "execution_count": 14,
   "id": "353bac77",
   "metadata": {},
   "outputs": [],
   "source": [
    "import numpy as np"
   ]
  },
  {
   "cell_type": "code",
   "execution_count": 15,
   "id": "7d1ed2e1",
   "metadata": {},
   "outputs": [],
   "source": [
    "p1=np.array([2.2,2,3])"
   ]
  },
  {
   "cell_type": "code",
   "execution_count": 16,
   "id": "356b5b5f",
   "metadata": {},
   "outputs": [],
   "source": [
    "x1,x2,x3=p1"
   ]
  },
  {
   "cell_type": "code",
   "execution_count": 17,
   "id": "ecf75722",
   "metadata": {},
   "outputs": [
    {
     "data": {
      "text/plain": [
       "2.2"
      ]
     },
     "execution_count": 17,
     "metadata": {},
     "output_type": "execute_result"
    }
   ],
   "source": [
    "x1\n"
   ]
  }
 ],
 "metadata": {
  "kernelspec": {
   "display_name": "Python 3",
   "language": "python",
   "name": "python3"
  },
  "language_info": {
   "codemirror_mode": {
    "name": "ipython",
    "version": 3
   },
   "file_extension": ".py",
   "mimetype": "text/x-python",
   "name": "python",
   "nbconvert_exporter": "python",
   "pygments_lexer": "ipython3",
   "version": "3.9.5"
  },
  "vscode": {
   "interpreter": {
    "hash": "9ada32eea83c06c6418fd9dacb5580edb909b082032d188eabcfd6a2b68a7cd7"
   }
  }
 },
 "nbformat": 4,
 "nbformat_minor": 5
}
